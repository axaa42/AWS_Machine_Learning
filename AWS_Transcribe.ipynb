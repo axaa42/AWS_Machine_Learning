{
 "cells": [
  {
   "cell_type": "code",
   "execution_count": null,
   "id": "b797c272",
   "metadata": {},
   "outputs": [],
   "source": [
    "v= transcribe.start_transcription_job(\n",
    "            TranscriptionJobName=job_name, # Name of the transcription job eg 'my_first_transcript'\n",
    "            Media={\"MediaFileUri\": s3_uri}, # Url of file\n",
    "            MediaFormat=\"mp4\", # format of file\n",
    "            LanguageCode=\"en-US\", # what language you want transcription in \n",
    "            OutputBucketName=where_to_save) # where to save json transcription job"
   ]
  }
 ],
 "metadata": {
  "kernelspec": {
   "display_name": "Python 3 (ipykernel)",
   "language": "python",
   "name": "python3"
  },
  "language_info": {
   "codemirror_mode": {
    "name": "ipython",
    "version": 3
   },
   "file_extension": ".py",
   "mimetype": "text/x-python",
   "name": "python",
   "nbconvert_exporter": "python",
   "pygments_lexer": "ipython3",
   "version": "3.7.11"
  }
 },
 "nbformat": 4,
 "nbformat_minor": 5
}
